{
 "cells": [
  {
   "cell_type": "markdown",
   "id": "0a2c7e08-12de-43de-abea-ea2536b326bf",
   "metadata": {},
   "source": [
    "# Cryptopals Challenges"
   ]
  },
  {
   "cell_type": "markdown",
   "id": "79f073ca-a8c1-4289-a239-4dd85332c4c0",
   "metadata": {},
   "source": [
    "## Challenge 1: Convert hex to base64"
   ]
  },
  {
   "cell_type": "code",
   "execution_count": 48,
   "id": "941cfbfa-f060-45b8-b42a-450802457368",
   "metadata": {},
   "outputs": [],
   "source": [
    "def c1_hex_to_bytes(hex: str)-> bytes:\n",
    "    return bytes.fromhex(hex)\n",
    "\n",
    "def c1_bytes_to_hex(b: bytes)-> str:\n",
    "    return bytes.hex(b)"
   ]
  },
  {
   "cell_type": "code",
   "execution_count": 49,
   "id": "acd24ee7-54f2-4b25-bd4f-4cf0886c4986",
   "metadata": {},
   "outputs": [],
   "source": [
    "import base64\n",
    "\n",
    "def c1_hex_to_base_64(hex_input: str) -> str:\n",
    "    bytes_input = c1_hex_to_bytes(hex_input)\n",
    "    b64_output = base64.b64encode(bytes_input).decode()\n",
    "    return b64_output"
   ]
  },
  {
   "cell_type": "markdown",
   "id": "fbeaf7e7-9e85-428a-a425-5cb90a4ea682",
   "metadata": {
    "jp-MarkdownHeadingCollapsed": true
   },
   "source": [
    "### Unit Tests for Challenge 1"
   ]
  },
  {
   "cell_type": "code",
   "execution_count": 50,
   "id": "5e89d60d-0a1d-452a-84c2-9f4203519c0a",
   "metadata": {},
   "outputs": [],
   "source": [
    "def c1_test_hex_to_base_64():\n",
    "    input_string = \"49276d206b696c6c696e6720796f757220627261696e206c696b65206120706f69736f6e6f7573206d757368726f6f6d\"\n",
    "    expected_string = \"SSdtIGtpbGxpbmcgeW91ciBicmFpbiBsaWtlIGEgcG9pc29ub3VzIG11c2hyb29t\"\n",
    "    assert(c1_hex_to_base_64(input_string) == expected_string)\n",
    "    print(\"pass\")"
   ]
  },
  {
   "cell_type": "code",
   "execution_count": 51,
   "id": "344d27d7-53e8-4da4-97de-a2ccddfb3e4a",
   "metadata": {},
   "outputs": [
    {
     "name": "stdout",
     "output_type": "stream",
     "text": [
      "pass\n"
     ]
    }
   ],
   "source": [
    "test_hex_to_base_64()"
   ]
  },
  {
   "cell_type": "markdown",
   "id": "f611c1a3-d26b-4079-9133-91e6b9970a89",
   "metadata": {},
   "source": [
    "## Challenge 2: Fixed XOR"
   ]
  },
  {
   "cell_type": "code",
   "execution_count": 52,
   "id": "e3691006-75f6-46d3-ab1c-7a20ff7178a3",
   "metadata": {},
   "outputs": [],
   "source": [
    "def c2_xor_two_bytes(a: bytes, b: bytes) -> bytes:\n",
    "    rtn = []\n",
    "\n",
    "    assert(len(a) == len(b))\n",
    "    \n",
    "    for i in range(len(a)):\n",
    "        rtn.append(a[i] ^ b[i])\n",
    "\n",
    "    return bytes(rtn)"
   ]
  },
  {
   "cell_type": "code",
   "execution_count": 53,
   "id": "89fd64d4-f30a-4287-a69b-b36aeac6c182",
   "metadata": {},
   "outputs": [],
   "source": [
    "def c2_xor_two_bytes_stringify(a: str, b: str) -> str:\n",
    "    return c1_bytes_to_hex(c2_xor_two_bytes(c1_hex_to_bytes(a), c1_hex_to_bytes(b)))"
   ]
  },
  {
   "cell_type": "markdown",
   "id": "275b3f6e-59df-40bd-a304-8cfdeec58bd7",
   "metadata": {
    "jp-MarkdownHeadingCollapsed": true
   },
   "source": [
    "### Unit Tests for Challenge 2"
   ]
  },
  {
   "cell_type": "code",
   "execution_count": 54,
   "id": "50ae8f26-efb6-43b4-8664-4810bc8951ce",
   "metadata": {},
   "outputs": [],
   "source": [
    "def c2_test_xor_two_bytes():\n",
    "    a = \"1c0111001f010100061a024b53535009181c\"\n",
    "    b = \"686974207468652062756c6c277320657965\"\n",
    "\n",
    "    c = \"746865206b696420646f6e277420706c6179\"\n",
    "    \n",
    "    assert(xor_two_bytes_stringify(a, b) == c)\n",
    "    print(\"pass\")"
   ]
  },
  {
   "cell_type": "code",
   "execution_count": 55,
   "id": "3a191c93-8bb1-40ba-925f-ffb17ae48c85",
   "metadata": {},
   "outputs": [
    {
     "name": "stdout",
     "output_type": "stream",
     "text": [
      "pass\n"
     ]
    }
   ],
   "source": [
    "test_xor_two_bytes()"
   ]
  },
  {
   "cell_type": "markdown",
   "id": "f1d5e1b3-ea82-4b12-bcb5-cdfac51b8ceb",
   "metadata": {},
   "source": [
    "## Challenge 3 - Single Byte XOR Cipher"
   ]
  },
  {
   "cell_type": "code",
   "execution_count": 70,
   "id": "0a028d95-e1d4-4c3f-a2f8-965582e99048",
   "metadata": {},
   "outputs": [],
   "source": [
    "def c3_score_board(input_bytes: bytes)-> float:\n",
    "    if len(input_bytes) == 0:\n",
    "        return 0\n",
    "        \n",
    "    letters_plus_space = list(range(97, 122)) + [32]\n",
    "\n",
    "    score = 0\n",
    "\n",
    "    for b in input_bytes:\n",
    "        if b in letters_plus_space:\n",
    "            score += 1\n",
    "\n",
    "    total = len(input_bytes)\n",
    "\n",
    "    return float(score) / float(total)"
   ]
  },
  {
   "cell_type": "code",
   "execution_count": 85,
   "id": "5c87e212-6394-4099-8c3b-7292eb867897",
   "metadata": {},
   "outputs": [],
   "source": [
    "class c3_decrypt_result:\n",
    "    def __init__(self, key, message, score):\n",
    "        self.key = key\n",
    "        self.message = message\n",
    "        self.score = score\n",
    "\n",
    "    def __repr__(self):\n",
    "        return \"message: \" + str(self.message) + \" score: \" + str(self.score) + \" key: \" + str(self.key)\n",
    "\n",
    "def c3_decrypt(cipher_text: str) -> c3_decrypt_result:\n",
    "    result = None\n",
    "    current_score = -1.0\n",
    "    \n",
    "    cipher_text_bytes = c1_hex_to_bytes(cipher_text)\n",
    "    total_bytes = len(cipher_text_bytes)\n",
    "\n",
    "    # 2^8 = 256\n",
    "    for i in range(256):\n",
    "        key_to_check = i.to_bytes(1, byteorder='big')\n",
    "        streamed_key = key_to_check * total_bytes\n",
    "\n",
    "        message_to_check = c2_xor_two_bytes(cipher_text_bytes, streamed_key)\n",
    "        score = c3_score_board(message_to_check)\n",
    "\n",
    "        if result is None or score > result.score:\n",
    "            result = c3_decrypt_result(key_to_check, message_to_check, score)\n",
    "\n",
    "    assert(result is not None)\n",
    "\n",
    "    return result"
   ]
  },
  {
   "cell_type": "markdown",
   "id": "f46865c6-1c81-4f18-bcf6-24612823fd5e",
   "metadata": {
    "jp-MarkdownHeadingCollapsed": true
   },
   "source": [
    "### Unit Tests for Challenge 3"
   ]
  },
  {
   "cell_type": "code",
   "execution_count": 109,
   "id": "2c187cf4-0f11-410c-be96-452de2fa2ebc",
   "metadata": {},
   "outputs": [
    {
     "name": "stdout",
     "output_type": "stream",
     "text": [
      "pass\n"
     ]
    }
   ],
   "source": [
    "def c3_test_score_board():\n",
    "    a = b\"hel lo\"\n",
    "    b = b\"!!?\"\n",
    "    c = b\"\"\n",
    "\n",
    "    assert(c3_score_board(a) == 1.0)\n",
    "    assert(c3_score_board(b) == 0.0)\n",
    "    assert(c3_score_board(c) == 0.0)\n",
    "    print(\"pass\")\n",
    "\n",
    "c3_test_score_board()"
   ]
  },
  {
   "cell_type": "code",
   "execution_count": 110,
   "id": "cae22093-9b63-4cd4-8ad9-0b489382ebb1",
   "metadata": {},
   "outputs": [
    {
     "name": "stdout",
     "output_type": "stream",
     "text": [
      "message: b\"Cooking MC's like a pound of bacon\" score: 0.8823529411764706 key: b'X'\n"
     ]
    }
   ],
   "source": [
    "def test_c3_decrypt():\n",
    "    cipher_text = '1b37373331363f78151b7f2b783431333d78397828372d363c78373e783a393b3736'\n",
    "    result = c3_decrypt(cipher_text)\n",
    "    print(result)\n",
    "\n",
    "test_c3_decrypt()"
   ]
  },
  {
   "cell_type": "markdown",
   "id": "610cea0d-2c16-4012-b189-5d1b9da4ae75",
   "metadata": {},
   "source": [
    "## Challenge 4: Detect single-character XOR"
   ]
  },
  {
   "cell_type": "code",
   "execution_count": 86,
   "id": "273f800f-0f45-4a78-bebf-76f98c07e3ac",
   "metadata": {},
   "outputs": [],
   "source": [
    "def c4_decrypt_best_result(lines: [str]) -> c3_decrypt_result:\n",
    "    best_result = None\n",
    "\n",
    "    for line in lines:\n",
    "        result = c3_decrypt(line)\n",
    "\n",
    "        if best_result is None or best_result.score < result.score:\n",
    "            best_result = result\n",
    "\n",
    "    assert(best_result is not None)\n",
    "    return best_result\n"
   ]
  },
  {
   "cell_type": "markdown",
   "id": "b4a309c2-9286-41ed-a863-d381d19c0cd1",
   "metadata": {},
   "source": [
    "### Unit Tests for Challenge 4"
   ]
  },
  {
   "cell_type": "code",
   "execution_count": 87,
   "id": "6b8aeeee-8b88-4a7b-979e-1645f6f81a04",
   "metadata": {},
   "outputs": [
    {
     "name": "stdout",
     "output_type": "stream",
     "text": [
      "message: b'Now that the party is jumping\\n' score: 0.9333333333333333 key: b'5'\n"
     ]
    }
   ],
   "source": [
    "def test_c4_decrypt_best_result():\n",
    "    lines = []\n",
    "    with open(\"challenge_data/4.txt\", \"r\") as f:\n",
    "        for line in f:\n",
    "            lines.append(line.strip())\n",
    "            \n",
    "    result = c4_decrypt_best_result(lines)\n",
    "    print(result)\n",
    "\n",
    "test_c4_decrypt_best_result()"
   ]
  },
  {
   "cell_type": "markdown",
   "id": "b2e12dfa-a77c-42cf-b805-304685a1f3ff",
   "metadata": {},
   "source": [
    "## Challenge 5: Implement repeating-key XOR"
   ]
  },
  {
   "cell_type": "code",
   "execution_count": 98,
   "id": "70b0f3ef-3ff0-43ec-9308-f1315e29c615",
   "metadata": {},
   "outputs": [],
   "source": [
    "def c5_repeating_key_xor(plain_text: bytes, key: bytes) -> bytes:\n",
    "    # ceiling of len(plain_text) / len(key)\n",
    "    streamed_key = key * (len(plain_text) // len(key) + 1)\n",
    "    streamed_key = streamed_key[:len(plain_text)]\n",
    "    return c2_xor_two_bytes(plain_text, streamed_key)"
   ]
  },
  {
   "cell_type": "markdown",
   "id": "253ccfc4-012e-4835-a5ee-6b36bbeb7c9a",
   "metadata": {},
   "source": [
    "### Unit Tests for Challenge 5"
   ]
  },
  {
   "cell_type": "code",
   "execution_count": 108,
   "id": "ccd9f820-44ba-4ffe-b953-31ff20b1cd7f",
   "metadata": {},
   "outputs": [],
   "source": [
    "def test_c5():\n",
    "    plain_text = b\"Burning 'em, if you ain't quick and nimble\\nI go crazy when I hear a cymbal\"\n",
    "    key = b\"ICE\"\n",
    "    cipher_text = \"0b3637272a2b2e63622c2e69692a23693a2a3c6324202d623d6\"\\\n",
    "                  \"3343c2a26226324272765272a282b2f20430a652e2c652a31243\"\\\n",
    "                  \"33a653e2b2027630c692b20283165286326302e27282f\"\n",
    "\n",
    "    assert(c1_bytes_to_hex(c5_repeating_key_xor(plain_text, key)) == cipher_text)\n",
    "\n",
    "test_c5()"
   ]
  }
 ],
 "metadata": {
  "kernelspec": {
   "display_name": "Python 3 (ipykernel)",
   "language": "python",
   "name": "python3"
  },
  "language_info": {
   "codemirror_mode": {
    "name": "ipython",
    "version": 3
   },
   "file_extension": ".py",
   "mimetype": "text/x-python",
   "name": "python",
   "nbconvert_exporter": "python",
   "pygments_lexer": "ipython3",
   "version": "3.9.6"
  }
 },
 "nbformat": 4,
 "nbformat_minor": 5
}
